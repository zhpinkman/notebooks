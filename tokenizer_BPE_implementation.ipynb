{
 "cells": [
  {
   "cell_type": "code",
   "execution_count": 128,
   "id": "3431e993-70be-4141-bd6e-a8a23b22ce40",
   "metadata": {},
   "outputs": [],
   "source": [
    "import transformers\n",
    "import numpy as np"
   ]
  },
  {
   "cell_type": "code",
   "execution_count": 129,
   "id": "7b412a01-c848-4dd0-8542-2d4a025b8d48",
   "metadata": {},
   "outputs": [],
   "source": [
    "corpus = [\n",
    "    \"This is the Hugging Face course.\",\n",
    "    \"This chapter is about tokenization.\",\n",
    "    \"This section shows several tokenizer algorithms.\",\n",
    "    \"Hopefully, you will be able to understand how they are trained and generate tokens.\",\n",
    "]"
   ]
  },
  {
   "cell_type": "code",
   "execution_count": 130,
   "id": "ba65ec58-5081-4dd3-8ccc-e53f0cecbed8",
   "metadata": {},
   "outputs": [],
   "source": [
    "from transformers import AutoTokenizer\n",
    "\n",
    "tokenizer = AutoTokenizer.from_pretrained(\"gpt2\")"
   ]
  },
  {
   "cell_type": "code",
   "execution_count": 131,
   "id": "c13cfad1-f4e9-4e11-9ce5-70e4db77e8e9",
   "metadata": {},
   "outputs": [],
   "source": [
    "from collections import defaultdict\n",
    "word_freqs = defaultdict(int)\n",
    "\n",
    "for text in corpus:\n",
    "    tokens = tokenizer.backend_tokenizer.pre_tokenizer.pre_tokenize_str(text)\n",
    "    for token in tokens:\n",
    "        word_freqs[token[0]] += 1"
   ]
  },
  {
   "cell_type": "code",
   "execution_count": 132,
   "id": "18ab66b0-089b-4f79-8ac9-13be21012eaa",
   "metadata": {},
   "outputs": [],
   "source": [
    "character_freqs = defaultdict(int)\n",
    "for word in word_freqs.keys():\n",
    "    for char in word:\n",
    "        character_freqs[char] += 1"
   ]
  },
  {
   "cell_type": "code",
   "execution_count": 133,
   "id": "c565a5a6-e369-4f5c-bc0a-e0f9dde6fa86",
   "metadata": {},
   "outputs": [],
   "source": [
    "alphabet = list(character_freqs.keys())\n",
    "vocab = [\"<|endoftext|>\"] + alphabet.copy()\n",
    "merges = {}"
   ]
  },
  {
   "cell_type": "code",
   "execution_count": 134,
   "id": "9a4c06e8-4e99-45fe-87e1-51c75ca030b5",
   "metadata": {},
   "outputs": [],
   "source": [
    "splits = {\n",
    "    word: [c for c in word] for word in word_freqs.keys()\n",
    "}"
   ]
  },
  {
   "cell_type": "code",
   "execution_count": 135,
   "id": "2d0267f1-469d-4ec6-8707-85ee90e06190",
   "metadata": {},
   "outputs": [],
   "source": [
    "def compute_pair_freqs(splits):\n",
    "    pair_freqs = defaultdict(int)\n",
    "    for word, freq in word_freqs.items():\n",
    "        chunks = splits[word]\n",
    "        if len(chunks) == 1:\n",
    "            continue\n",
    "        for i in range(len(chunks) - 1):\n",
    "            pair_freqs[(chunks[i], chunks[i + 1])] += freq\n",
    "        \n",
    "    return pair_freqs"
   ]
  },
  {
   "cell_type": "code",
   "execution_count": 136,
   "id": "b6de5e99-d22c-4fda-bd86-92847105b066",
   "metadata": {},
   "outputs": [],
   "source": [
    "def merge_pairs(splits, pair):\n",
    "    for word in splits.keys():\n",
    "        chunks = splits[word]\n",
    "        if len(chunks) == 1:\n",
    "            continue\n",
    "        \n",
    "        i = 0\n",
    "        while i < len(chunks) - 1:\n",
    "            if chunks[i] == pair[0] and chunks[i + 1] == pair[1]:\n",
    "                chunks = chunks[:i] + [pair[0] + pair[1]] + chunks[i + 2:]\n",
    "            else:\n",
    "                i += 1\n",
    "        splits[word] = chunks\n",
    "    return splits"
   ]
  },
  {
   "cell_type": "code",
   "execution_count": 137,
   "id": "0ba316f8-0256-46cf-8d43-5c297661f04d",
   "metadata": {},
   "outputs": [],
   "source": [
    "vocab_size = 50\n",
    "\n",
    "while len(vocab) < vocab_size:\n",
    "    pair_freqs = compute_pair_freqs(splits)\n",
    "    max_freq = np.max(list(pair_freqs.values()))\n",
    "    best_pair = [(a, b) for (a, b), freq in pair_freqs.items() if freq == max_freq][0]\n",
    "    splits = merge_pairs(splits, best_pair)\n",
    "    merges[best_pair] = best_pair[0] + best_pair[1]\n",
    "    vocab.append(best_pair[0] + best_pair[1])"
   ]
  },
  {
   "cell_type": "code",
   "execution_count": 138,
   "id": "d001bb7a-eeed-4aa9-9547-f8408a8754c7",
   "metadata": {},
   "outputs": [],
   "source": [
    "def tokenize(text):\n",
    "    pre_tokenize_result = tokenizer._tokenizer.pre_tokenizer.pre_tokenize_str(text)\n",
    "    pre_tokenized_text = [word for word, offset in pre_tokenize_result]\n",
    "    splits = [[l for l in word] for word in pre_tokenized_text]\n",
    "    for pair, merge in merges.items():\n",
    "        for idx, split in enumerate(splits):\n",
    "            i = 0\n",
    "            while i < len(split) - 1:\n",
    "                if split[i] == pair[0] and split[i + 1] == pair[1]:\n",
    "                    split = split[:i] + [merge] + split[i + 2 :]\n",
    "                else:\n",
    "                    i += 1\n",
    "            splits[idx] = split\n",
    "\n",
    "    return sum(splits, [])"
   ]
  },
  {
   "cell_type": "code",
   "execution_count": 139,
   "id": "244d6397-6d28-4ea7-846f-87b928359b43",
   "metadata": {},
   "outputs": [
    {
     "data": {
      "text/plain": [
       "['This', 'Ġis', 'Ġ', 'n', 'o', 't', 'Ġa', 'Ġtoken', '.']"
      ]
     },
     "execution_count": 139,
     "metadata": {},
     "output_type": "execute_result"
    }
   ],
   "source": [
    "tokenize(\"This is not a token.\")"
   ]
  }
 ],
 "metadata": {
  "kernelspec": {
   "display_name": "Python [conda env:general]",
   "language": "python",
   "name": "conda-env-general-py"
  },
  "language_info": {
   "codemirror_mode": {
    "name": "ipython",
    "version": 3
   },
   "file_extension": ".py",
   "mimetype": "text/x-python",
   "name": "python",
   "nbconvert_exporter": "python",
   "pygments_lexer": "ipython3",
   "version": "3.8.12"
  }
 },
 "nbformat": 4,
 "nbformat_minor": 5
}
