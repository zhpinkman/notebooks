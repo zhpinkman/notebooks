{
 "cells": [
  {
   "cell_type": "code",
   "execution_count": 23,
   "id": "aa713616-664b-4d7d-bec7-d29c3b8c70f6",
   "metadata": {},
   "outputs": [],
   "source": [
    "import numpy as np"
   ]
  },
  {
   "cell_type": "code",
   "execution_count": 21,
   "id": "7da02b5c-352a-4e83-923b-168b7d739ca1",
   "metadata": {},
   "outputs": [
    {
     "name": "stdout",
     "output_type": "stream",
     "text": [
      "studies have shown that owning a dog is good for you because  you can get a better\n"
     ]
    }
   ],
   "source": [
    "from transformers import AutoTokenizer, AutoModelForCausalLM\n",
    "\n",
    "tokenizer = AutoTokenizer.from_pretrained(\"gpt2\")\n",
    "\n",
    "model = AutoModelForCausalLM.from_pretrained(\"gpt2\")\n",
    "# inference\n",
    "input_ids = tokenizer(\n",
    "    \"studies have shown that owning a dog is good for you because \", return_tensors=\"pt\"\n",
    ").input_ids  # Batch size 1\n",
    "\n",
    "\n",
    "\n",
    "outputs = model.generate(input_ids, pad_token_id=tokenizer.eos_token_id)\n",
    "print(tokenizer.decode(outputs[0], skip_special_tokens=True))"
   ]
  },
  {
   "cell_type": "code",
   "execution_count": 24,
   "id": "1f15246f-4c49-4f7f-beed-199ff29db5d1",
   "metadata": {},
   "outputs": [
    {
     "name": "stderr",
     "output_type": "stream",
     "text": [
      "/Users/user/miniforge3/envs/general/lib/python3.8/site-packages/transformers/tokenization_utils_base.py:2259: FutureWarning: The `truncation_strategy` argument is deprecated and will be removed in a future version, use `truncation=True` to truncate examples to a max length. You can give a specific length with `max_length` (e.g. `max_length=45`) or leave max_length to None to truncate to the maximal input size of the model (e.g. 512 for Bert).  If you have pairs of inputs, you can give a specific truncation strategy selected among `truncation='only_first'` (will only truncate the first sentence in the pairs) `truncation='only_second'` (will only truncate the second sentence in the pairs) or `truncation='longest_first'` (will iteratively remove tokens from the longest sentence in the pairs).\n",
      "  warnings.warn(\n"
     ]
    }
   ],
   "source": [
    "# pose sequence as a NLI premise and label as a hypothesis\n",
    "from transformers import AutoModelForSequenceClassification, AutoTokenizer\n",
    "nli_model = AutoModelForSequenceClassification.from_pretrained('facebook/bart-large-mnli')\n",
    "tokenizer = AutoTokenizer.from_pretrained('facebook/bart-large-mnli')\n",
    "\n",
    "premise = \"I have a problem with my iphone that needs to be resolved asap!!\"\n",
    "labels = [\"urgent\", \"not urgent\", \"phone\", \"tablet\", \"computer\"]\n",
    "\n",
    "label = labels[0]\n",
    "all_logits = []\n",
    "\n",
    "\n",
    "for label in labels:\n",
    "    hypothesis = f'This example is {label}.'\n",
    "\n",
    "    # run through model pre-trained on MNLI\n",
    "    x = tokenizer.encode(premise, hypothesis, return_tensors='pt',\n",
    "                         truncation_strategy='only_first')\n",
    "\n",
    "\n",
    "    logits = nli_model(x)[0]\n",
    "    all_logits.append(logits)\n",
    "\n",
    "\n",
    "#     entail_contradiction_logits = logits[:,[0,2]]\n",
    "#     probs = entail_contradiction_logits.softmax(dim=1)\n",
    "#     prob_label_is_true = probs[:,1]\n",
    "#     print(f'conclusion for {label}')\n",
    "#     print(prob_label_is_true)"
   ]
  },
  {
   "cell_type": "code",
   "execution_count": 25,
   "id": "b1a05a3e-61b7-4d40-9b5d-b29fd0169b10",
   "metadata": {},
   "outputs": [],
   "source": [
    "all_logits = np.array([logit.detach().numpy() for logit in all_logits])"
   ]
  },
  {
   "cell_type": "code",
   "execution_count": 26,
   "id": "dc8c4287-fd81-49bf-9019-b585b293a472",
   "metadata": {},
   "outputs": [
    {
     "data": {
      "text/plain": [
       "array([[[-3.8805737 ,  0.88837683,  2.6724663 ]],\n",
       "\n",
       "       [[ 4.7216988 , -2.037772  , -2.572649  ]],\n",
       "\n",
       "       [[-2.670961  ,  0.2681278 ,  2.621893  ]],\n",
       "\n",
       "       [[ 5.074621  , -2.3442779 , -2.7126708 ]],\n",
       "\n",
       "       [[ 0.842014  , -0.08584917, -1.0156575 ]]], dtype=float32)"
      ]
     },
     "execution_count": 26,
     "metadata": {},
     "output_type": "execute_result"
    }
   ],
   "source": [
    "all_logits"
   ]
  },
  {
   "cell_type": "code",
   "execution_count": 27,
   "id": "765f908d-2e0e-4902-ab99-23fd6a235529",
   "metadata": {},
   "outputs": [],
   "source": [
    "maxes = np.max(all_logits, axis=-1, keepdims=True)\n",
    "shifted_exp = np.exp(all_logits - maxes)\n",
    "scores = shifted_exp / shifted_exp.sum(axis=-1, keepdims=True)"
   ]
  },
  {
   "cell_type": "code",
   "execution_count": 28,
   "id": "ff26838b-6262-4501-baa1-62dec27eaaec",
   "metadata": {},
   "outputs": [
    {
     "data": {
      "text/plain": [
       "array([[[2.6724663]],\n",
       "\n",
       "       [[4.7216988]],\n",
       "\n",
       "       [[2.621893 ]],\n",
       "\n",
       "       [[5.074621 ]],\n",
       "\n",
       "       [[0.842014 ]]], dtype=float32)"
      ]
     },
     "execution_count": 28,
     "metadata": {},
     "output_type": "execute_result"
    }
   ],
   "source": [
    "maxes"
   ]
  },
  {
   "cell_type": "code",
   "execution_count": 31,
   "id": "5800dd87-2102-47f1-bac7-c4e897366144",
   "metadata": {},
   "outputs": [
    {
     "data": {
      "text/plain": [
       "array([[[1.2192614e-03, 1.4362358e-01, 8.5515720e-01]],\n",
       "\n",
       "       [[9.9816424e-01, 1.1577134e-03, 6.7812076e-04]],\n",
       "\n",
       "       [[4.5701982e-03, 8.6370431e-02, 9.0905935e-01]],\n",
       "\n",
       "       [[9.9898618e-01, 5.9920107e-04, 4.1455441e-04]],\n",
       "\n",
       "       [[6.4456528e-01, 2.5485963e-01, 1.0057510e-01]]], dtype=float32)"
      ]
     },
     "execution_count": 31,
     "metadata": {},
     "output_type": "execute_result"
    }
   ],
   "source": [
    "scores"
   ]
  }
 ],
 "metadata": {
  "kernelspec": {
   "display_name": "Python [conda env:general]",
   "language": "python",
   "name": "conda-env-general-py"
  },
  "language_info": {
   "codemirror_mode": {
    "name": "ipython",
    "version": 3
   },
   "file_extension": ".py",
   "mimetype": "text/x-python",
   "name": "python",
   "nbconvert_exporter": "python",
   "pygments_lexer": "ipython3",
   "version": "3.8.12"
  }
 },
 "nbformat": 4,
 "nbformat_minor": 5
}
