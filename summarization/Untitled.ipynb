{
 "cells": [
  {
   "cell_type": "code",
   "execution_count": 2,
   "id": "89ed92b7-f34b-4fa5-afc9-9f7c23c35cfa",
   "metadata": {},
   "outputs": [
    {
     "name": "stdout",
     "output_type": "stream",
     "text": [
      "  % Total    % Received % Xferd  Average Speed   Time    Time     Time  Current\n",
      "                                 Dload  Upload   Total   Spent    Left  Speed\n",
      "  0     0    0     0    0     0      0      0 --:--:-- --:--:-- --:--:--     0\n",
      "100     9    0     9    0     0      9      0 --:--:-- --:--:-- --:--:--     9\n",
      " 29  590M   29  174M    0     0   478k      0  0:21:04  0:06:14  0:14:50  226k9k      0  0:27:14  0:00:34  0:26:40  231k34  0:00:47  0:29:47  226k 0:32:56  0:01:01  0:31:55  226k03  0:32:08  227k19  0:01:35  0:34:44  226k:38  0:34:54  225k   0  0:37:16  0:01:50  0:35:26  226k 0:37:31  0:01:55  0:35:36  226k 0:36:42  0:02:03  0:34:39  426k  0:30:07  0:02:31  0:27:36  583k 0:02:41  0:25:12  864k   385k      0  0:26:08  0:02:52  0:23:16  742k5:20  0:02:58  0:22:22  734k      0  0:25:05  0:03:06  0:21:59  421k:23:59  0:03:26  0:20:33  639k03:28  0:20:23  650kk      0  0:22:53  0:03:55  0:18:58  436k  457k      0  0:22:00  0:04:32  0:17:28  448k4k      0  0:21:40  0:04:44  0:16:56  657k0:15:50  720k0:05:22  0:15:00  790k 0  0:20:13  0:05:46  0:14:27  292k   0  0:20:28  0:05:54  0:14:34  226k0   490k      0  0:20:32  0:05:56  0:14:36  226k   480k      0  0:20:57  0:06:10  0:14:47  226k 0:06:11  0:14:48  226k   479k      0  0:21:01  0:06:12  0:14:49  226k^C\n"
     ]
    }
   ],
   "source": [
    "!curl -L  https://ucsb.app.box.com/shared/static/ap23l8gafpezf4tq3wapr6u8241zz358 --output wikihowAll.csv"
   ]
  },
  {
   "cell_type": "code",
   "execution_count": 3,
   "id": "355a49f7-e1ee-4b18-aff2-175ca2ff8d69",
   "metadata": {},
   "outputs": [
    {
     "name": "stderr",
     "output_type": "stream",
     "text": [
      "\n",
      "KeyboardInterrupt\n",
      "\n"
     ]
    }
   ],
   "source": [
    "from datasets import load_dataset\n",
    "dataset = load_dataset('wikihow', 'all', data_dir='.')"
   ]
  },
  {
   "cell_type": "code",
   "execution_count": 1,
   "id": "b35ca313-dc05-41af-afd8-77974e8f7d63",
   "metadata": {},
   "outputs": [
    {
     "data": {
      "text/plain": [
       "3.7837328910827637"
      ]
     },
     "execution_count": 1,
     "metadata": {},
     "output_type": "execute_result"
    }
   ],
   "source": [
    "from transformers import T5Tokenizer, T5ForConditionalGeneration\n",
    "\n",
    "tokenizer = T5Tokenizer.from_pretrained(\"t5-small\")\n",
    "model = T5ForConditionalGeneration.from_pretrained(\"t5-small\")"
   ]
  },
  {
   "cell_type": "code",
   "execution_count": null,
   "id": "0375b10e-7788-4139-b1de-3aa595fc4468",
   "metadata": {},
   "outputs": [],
   "source": []
  }
 ],
 "metadata": {
  "kernelspec": {
   "display_name": "Python [conda env:general]",
   "language": "python",
   "name": "conda-env-general-py"
  },
  "language_info": {
   "codemirror_mode": {
    "name": "ipython",
    "version": 3
   },
   "file_extension": ".py",
   "mimetype": "text/x-python",
   "name": "python",
   "nbconvert_exporter": "python",
   "pygments_lexer": "ipython3",
   "version": "3.8.12"
  }
 },
 "nbformat": 4,
 "nbformat_minor": 5
}
