{
 "cells": [
  {
   "cell_type": "code",
   "execution_count": 4,
   "id": "fb657ba8-6127-43b4-863c-c39f2537ecb6",
   "metadata": {},
   "outputs": [
    {
     "name": "stdout",
     "output_type": "stream",
     "text": [
      "Downloading store-sales-time-series-forecasting.zip to /Users/user/Documents/notebooks/store_sales_prediction\n",
      " 98%|█████████████████████████████████████▎| 21.0M/21.4M [00:00<00:00, 30.6MB/s]\n",
      "100%|██████████████████████████████████████| 21.4M/21.4M [00:00<00:00, 29.1MB/s]\n"
     ]
    }
   ],
   "source": [
    "!kaggle competitions download -c store-sales-time-series-forecasting"
   ]
  },
  {
   "cell_type": "code",
   "execution_count": 6,
   "id": "308a4605-cf14-4c1c-a44a-f33407f51d58",
   "metadata": {},
   "outputs": [
    {
     "name": "stdout",
     "output_type": "stream",
     "text": [
      "Archive:  store-sales-time-series-forecasting.zip\n",
      "  inflating: holidays_events.csv     \n",
      "  inflating: oil.csv                 \n",
      "  inflating: sample_submission.csv   \n",
      "  inflating: stores.csv              \n",
      "  inflating: test.csv                \n",
      "  inflating: train.csv               \n",
      "  inflating: transactions.csv        \n"
     ]
    }
   ],
   "source": [
    "!unzip store-sales-time-series-forecasting.zip"
   ]
  },
  {
   "cell_type": "code",
   "execution_count": 1350,
   "id": "bad8bc6a-8a9d-41c5-a9b3-e023ba975d0e",
   "metadata": {},
   "outputs": [],
   "source": [
    "plt.rcParams['axes.spines.top'] = False\n",
    "plt.rcParams['axes.spines.right'] = False\n",
    "plt.rcParams['axes.spines.left'] = False\n",
    "plt.rcParams['axes.spines.bottom'] = False"
   ]
  },
  {
   "cell_type": "code",
   "execution_count": 1351,
   "id": "9a1309de-f154-41da-86e2-8df324146b3d",
   "metadata": {},
   "outputs": [],
   "source": [
    "import numpy as np\n",
    "import pandas as pd\n",
    "import matplotlib.pyplot as plt\n",
    "from datetime import datetime\n",
    "import seaborn as sns"
   ]
  },
  {
   "cell_type": "code",
   "execution_count": 1352,
   "id": "af5c3fb4-d4f7-4cf1-a8d6-794852e12a6e",
   "metadata": {},
   "outputs": [],
   "source": [
    "def create_date_features(df):\n",
    "    df['month'] = df.date.dt.month.astype(\"int8\")\n",
    "    df['day_of_month'] = df.date.dt.day.astype(\"int8\")\n",
    "    df['day_of_year'] = df.date.dt.dayofyear.astype(\"int16\")\n",
    "    df['week_of_month'] = (df.date.apply(lambda d: (d.day-1) // 7 + 1)).astype(\"int8\")\n",
    "    df['week_of_year'] = (df.date.dt.weekofyear).astype(\"int8\")\n",
    "    df['day_of_week'] = (df.date.dt.dayofweek + 1).astype(\"int8\")\n",
    "    df['year'] = df.date.dt.year.astype(\"int32\")\n",
    "    df[\"is_wknd\"] = (df.date.dt.weekday // 4).astype(\"int8\")\n",
    "    df[\"quarter\"] = df.date.dt.quarter.astype(\"int8\")\n",
    "    df['is_month_start'] = df.date.dt.is_month_start.astype(\"int8\")\n",
    "    df['is_month_end'] = df.date.dt.is_month_end.astype(\"int8\")\n",
    "    df['is_quarter_start'] = df.date.dt.is_quarter_start.astype(\"int8\")\n",
    "    df['is_quarter_end'] = df.date.dt.is_quarter_end.astype(\"int8\")\n",
    "    df['is_year_start'] = df.date.dt.is_year_start.astype(\"int8\")\n",
    "    df['is_year_end'] = df.date.dt.is_year_end.astype(\"int8\")\n",
    "    # 0: Winter - 1: Spring - 2: Summer - 3: Fall\n",
    "    df[\"season\"] = np.where(df.month.isin([12,1,2]), 0, 1)\n",
    "    df[\"season\"] = np.where(df.month.isin([6,7,8]), 2, df[\"season\"])\n",
    "    df[\"season\"] = pd.Series(np.where(df.month.isin([9, 10, 11]), 3, df[\"season\"])).astype(\"int8\")\n",
    "    return df"
   ]
  },
  {
   "cell_type": "code",
   "execution_count": 1353,
   "id": "9e2634ef-c5ce-4cd0-b8ee-4de9f8c2d796",
   "metadata": {},
   "outputs": [
    {
     "name": "stderr",
     "output_type": "stream",
     "text": [
      "/var/folders/w0/h8xj6tr53wb1vyjdx5qj1ty00000gn/T/ipykernel_86174/4166992176.py:6: FutureWarning: Series.dt.weekofyear and Series.dt.week have been deprecated.  Please use Series.dt.isocalendar().week instead.\n",
      "  df['week_of_year'] = (df.date.dt.weekofyear).astype(\"int8\")\n"
     ]
    },
    {
     "name": "stdout",
     "output_type": "stream",
     "text": [
      "The shape of the data (3000888, 22)\n",
      "<class 'pandas.core.frame.DataFrame'>\n",
      "RangeIndex: 3000888 entries, 0 to 3000887\n",
      "Data columns (total 22 columns):\n",
      " #   Column            Dtype         \n",
      "---  ------            -----         \n",
      " 0   id                int64         \n",
      " 1   date              datetime64[ns]\n",
      " 2   store_nbr         int64         \n",
      " 3   family            object        \n",
      " 4   sales             float64       \n",
      " 5   onpromotion       int64         \n",
      " 6   month             int8          \n",
      " 7   day_of_month      int8          \n",
      " 8   day_of_year       int16         \n",
      " 9   week_of_month     int8          \n",
      " 10  week_of_year      int8          \n",
      " 11  day_of_week       int8          \n",
      " 12  year              int32         \n",
      " 13  is_wknd           int8          \n",
      " 14  quarter           int8          \n",
      " 15  is_month_start    int8          \n",
      " 16  is_month_end      int8          \n",
      " 17  is_quarter_start  int8          \n",
      " 18  is_quarter_end    int8          \n",
      " 19  is_year_start     int8          \n",
      " 20  is_year_end       int8          \n",
      " 21  season            int8          \n",
      "dtypes: datetime64[ns](1), float64(1), int16(1), int32(1), int64(3), int8(14), object(1)\n",
      "memory usage: 194.6+ MB\n"
     ]
    }
   ],
   "source": [
    "train_df = pd.read_csv('train.csv', parse_dates=['date'])\n",
    "train_df = create_date_features(train_df)\n",
    "print(f'The shape of the data {train_df.shape}')\n",
    "train_df.info()"
   ]
  },
  {
   "cell_type": "code",
   "execution_count": 1354,
   "id": "27ee81dc-31fd-4399-a4c8-4e6906e0cd74",
   "metadata": {},
   "outputs": [
    {
     "data": {
      "text/plain": [
       "id                  0\n",
       "date                0\n",
       "store_nbr           0\n",
       "family              0\n",
       "sales               0\n",
       "onpromotion         0\n",
       "month               0\n",
       "day_of_month        0\n",
       "day_of_year         0\n",
       "week_of_month       0\n",
       "week_of_year        0\n",
       "day_of_week         0\n",
       "year                0\n",
       "is_wknd             0\n",
       "quarter             0\n",
       "is_month_start      0\n",
       "is_month_end        0\n",
       "is_quarter_start    0\n",
       "is_quarter_end      0\n",
       "is_year_start       0\n",
       "is_year_end         0\n",
       "season              0\n",
       "dtype: int64"
      ]
     },
     "execution_count": 1354,
     "metadata": {},
     "output_type": "execute_result"
    }
   ],
   "source": [
    "train_df.isna().sum(axis = 0)"
   ]
  },
  {
   "cell_type": "code",
   "execution_count": 1355,
   "id": "fe492b15-9832-4102-bb05-4674eb397fab",
   "metadata": {},
   "outputs": [
    {
     "name": "stdout",
     "output_type": "stream",
     "text": [
      "54 stores in the dataset\n"
     ]
    }
   ],
   "source": [
    "print(f\"{len(train_df['store_nbr'].unique())} stores in the dataset\")"
   ]
  },
  {
   "cell_type": "code",
   "execution_count": 1356,
   "id": "3fb17494-4998-463c-919f-203937b5de13",
   "metadata": {},
   "outputs": [
    {
     "name": "stdout",
     "output_type": "stream",
     "text": [
      "33 product codes in the dataset\n"
     ]
    }
   ],
   "source": [
    "print(f\"{len(train_df['family'].unique())} product codes in the dataset\")"
   ]
  },
  {
   "cell_type": "code",
   "execution_count": 1357,
   "id": "5e768682-aaab-407c-98bd-9f66bb644da2",
   "metadata": {},
   "outputs": [],
   "source": [
    "sales_by_store_and_family = train_df.groupby(by = ['family', 'store_nbr'])['sales'].sum()\n",
    "stores_family_pairs_always_zero = sales_by_store_and_family[sales_by_store_and_family == 0].index"
   ]
  },
  {
   "cell_type": "code",
   "execution_count": 1358,
   "id": "de739d7a-ec5c-4771-a0ec-195efaa7f1e7",
   "metadata": {},
   "outputs": [
    {
     "name": "stdout",
     "output_type": "stream",
     "text": [
      "(3000888, 22)\n",
      "(2911636, 23)\n"
     ]
    }
   ],
   "source": [
    "print(train_df.shape)\n",
    "train_df = train_df.reset_index().set_index(['family', 'store_nbr'])\n",
    "train_df.drop(stores_family_pairs_always_zero, inplace=True)\n",
    "train_df.reset_index(inplace=True)\n",
    "print(train_df.shape)"
   ]
  },
  {
   "cell_type": "code",
   "execution_count": 1359,
   "id": "1da7f6b7-8f2c-4448-b6c0-1abdec9268af",
   "metadata": {},
   "outputs": [
    {
     "name": "stdout",
     "output_type": "stream",
     "text": [
      "<class 'pandas.core.frame.DataFrame'>\n",
      "DatetimeIndex: 1218 entries, 2013-01-01 to 2017-08-31\n",
      "Data columns (total 1 columns):\n",
      " #   Column      Non-Null Count  Dtype  \n",
      "---  ------      --------------  -----  \n",
      " 0   dcoilwtico  1218 non-null   float64\n",
      "dtypes: float64(1)\n",
      "memory usage: 19.0 KB\n",
      "None\n",
      "--------------------------------------------------\n",
      "            dcoilwtico\n",
      "date                  \n",
      "2013-01-01       93.14\n",
      "2013-01-02       93.14\n",
      "2013-01-03       92.97\n"
     ]
    }
   ],
   "source": [
    "oil_df = pd.read_csv('oil.csv', parse_dates=[0], index_col=0)\n",
    "oil_df.asfreq(pd.infer_freq(oil_df.index))\n",
    "oil_df.bfill(inplace=True)\n",
    "print(oil_df.info())\n",
    "print(50 * '-')\n",
    "print(oil_df.head(3))"
   ]
  },
  {
   "cell_type": "code",
   "execution_count": 1360,
   "id": "ec8430dc-7ca2-4b92-99e9-83c4c096cd8c",
   "metadata": {},
   "outputs": [
    {
     "data": {
      "image/png": "[encoded data removed]",
      "text/plain": [
       "<Figure size 1080x576 with 1 Axes>"
      ]
     },
     "metadata": {
      "needs_background": "light"
     },
     "output_type": "display_data"
    }
   ],
   "source": [
    "plt.figure(figsize = (15, 8))\n",
    "sns.lineplot(data = oil_df).set(title = 'The daily price of oil', ylabel = 'price', xlabel = 'time')\n",
    "plt.show()"
   ]
  },
  {
   "cell_type": "code",
   "execution_count": 1361,
   "id": "fa104915-123b-4515-b587-82b87f1a2f40",
   "metadata": {},
   "outputs": [
    {
     "data": {
      "image/png": "[encoded data removed]",
      "text/plain": [
       "<Figure size 432x288 with 1 Axes>"
      ]
     },
     "metadata": {
      "needs_background": "light"
     },
     "output_type": "display_data"
    }
   ],
   "source": [
    "sales_group_by_day = train_df.groupby(by = 'day_of_week')['sales'].apply(lambda x: np.mean(x))\n",
    "sns.barplot(x = sales_group_by_day.index, y = sales_group_by_day.values, palette='gray_r')\n",
    "for index, value in enumerate(sales_group_by_day.values):\n",
    "    plt.text(index - .2, value + 10, str(round(value)))\n",
    "plt.gca().set(ylim = (0, 500), title = 'Sales on different days of the week')\n",
    "plt.gca().spines['bottom'].set_visible(True)\n",
    "plt.gca().spines['left'].set_visible(True)"
   ]
  },
  {
   "cell_type": "code",
   "execution_count": 1362,
   "id": "c66d6859-2c32-46d0-99bf-cf48e724f28c",
   "metadata": {},
   "outputs": [
    {
     "data": {
      "text/html": [
       "<div>\n",
       "<style scoped>\n",
       "    .dataframe tbody tr th:only-of-type {\n",
       "        vertical-align: middle;\n",
       "    }\n",
       "\n",
       "    .dataframe tbody tr th {\n",
       "        vertical-align: top;\n",
       "    }\n",
       "\n",
       "    .dataframe thead th {\n",
       "        text-align: right;\n",
       "    }\n",
       "</style>\n",
       "<table border=\"1\" class=\"dataframe\">\n",
       "  <thead>\n",
       "    <tr style=\"text-align: right;\">\n",
       "      <th></th>\n",
       "      <th>family</th>\n",
       "      <th>store_nbr</th>\n",
       "      <th>index</th>\n",
       "      <th>id</th>\n",
       "      <th>date</th>\n",
       "      <th>sales</th>\n",
       "      <th>onpromotion</th>\n",
       "      <th>month</th>\n",
       "      <th>day_of_month</th>\n",
       "      <th>day_of_year</th>\n",
       "      <th>...</th>\n",
       "      <th>year</th>\n",
       "      <th>is_wknd</th>\n",
       "      <th>quarter</th>\n",
       "      <th>is_month_start</th>\n",
       "      <th>is_month_end</th>\n",
       "      <th>is_quarter_start</th>\n",
       "      <th>is_quarter_end</th>\n",
       "      <th>is_year_start</th>\n",
       "      <th>is_year_end</th>\n",
       "      <th>season</th>\n",
       "    </tr>\n",
       "  </thead>\n",
       "  <tbody>\n",
       "    <tr>\n",
       "      <th>0</th>\n",
       "      <td>AUTOMOTIVE</td>\n",
       "      <td>1</td>\n",
       "      <td>0</td>\n",
       "      <td>0</td>\n",
       "      <td>2013-01-01</td>\n",
       "      <td>0.000</td>\n",
       "      <td>0</td>\n",
       "      <td>1</td>\n",
       "      <td>1</td>\n",
       "      <td>1</td>\n",
       "      <td>...</td>\n",
       "      <td>2013</td>\n",
       "      <td>0</td>\n",
       "      <td>1</td>\n",
       "      <td>1</td>\n",
       "      <td>0</td>\n",
       "      <td>1</td>\n",
       "      <td>0</td>\n",
       "      <td>1</td>\n",
       "      <td>0</td>\n",
       "      <td>0</td>\n",
       "    </tr>\n",
       "    <tr>\n",
       "      <th>1</th>\n",
       "      <td>BEAUTY</td>\n",
       "      <td>1</td>\n",
       "      <td>2</td>\n",
       "      <td>2</td>\n",
       "      <td>2013-01-01</td>\n",
       "      <td>0.000</td>\n",
       "      <td>0</td>\n",
       "      <td>1</td>\n",
       "      <td>1</td>\n",
       "      <td>1</td>\n",
       "      <td>...</td>\n",
       "      <td>2013</td>\n",
       "      <td>0</td>\n",
       "      <td>1</td>\n",
       "      <td>1</td>\n",
       "      <td>0</td>\n",
       "      <td>1</td>\n",
       "      <td>0</td>\n",
       "      <td>1</td>\n",
       "      <td>0</td>\n",
       "      <td>0</td>\n",
       "    </tr>\n",
       "    <tr>\n",
       "      <th>2</th>\n",
       "      <td>BEVERAGES</td>\n",
       "      <td>1</td>\n",
       "      <td>3</td>\n",
       "      <td>3</td>\n",
       "      <td>2013-01-01</td>\n",
       "      <td>0.000</td>\n",
       "      <td>0</td>\n",
       "      <td>1</td>\n",
       "      <td>1</td>\n",
       "      <td>1</td>\n",
       "      <td>...</td>\n",
       "      <td>2013</td>\n",
       "      <td>0</td>\n",
       "      <td>1</td>\n",
       "      <td>1</td>\n",
       "      <td>0</td>\n",
       "      <td>1</td>\n",
       "      <td>0</td>\n",
       "      <td>1</td>\n",
       "      <td>0</td>\n",
       "      <td>0</td>\n",
       "    </tr>\n",
       "    <tr>\n",
       "      <th>3</th>\n",
       "      <td>BOOKS</td>\n",
       "      <td>1</td>\n",
       "      <td>4</td>\n",
       "      <td>4</td>\n",
       "      <td>2013-01-01</td>\n",
       "      <td>0.000</td>\n",
       "      <td>0</td>\n",
       "      <td>1</td>\n",
       "      <td>1</td>\n",
       "      <td>1</td>\n",
       "      <td>...</td>\n",
       "      <td>2013</td>\n",
       "      <td>0</td>\n",
       "      <td>1</td>\n",
       "      <td>1</td>\n",
       "      <td>0</td>\n",
       "      <td>1</td>\n",
       "      <td>0</td>\n",
       "      <td>1</td>\n",
       "      <td>0</td>\n",
       "      <td>0</td>\n",
       "    </tr>\n",
       "    <tr>\n",
       "      <th>4</th>\n",
       "      <td>BREAD/BAKERY</td>\n",
       "      <td>1</td>\n",
       "      <td>5</td>\n",
       "      <td>5</td>\n",
       "      <td>2013-01-01</td>\n",
       "      <td>0.000</td>\n",
       "      <td>0</td>\n",
       "      <td>1</td>\n",
       "      <td>1</td>\n",
       "      <td>1</td>\n",
       "      <td>...</td>\n",
       "      <td>2013</td>\n",
       "      <td>0</td>\n",
       "      <td>1</td>\n",
       "      <td>1</td>\n",
       "      <td>0</td>\n",
       "      <td>1</td>\n",
       "      <td>0</td>\n",
       "      <td>1</td>\n",
       "      <td>0</td>\n",
       "      <td>0</td>\n",
       "    </tr>\n",
       "    <tr>\n",
       "      <th>...</th>\n",
       "      <td>...</td>\n",
       "      <td>...</td>\n",
       "      <td>...</td>\n",
       "      <td>...</td>\n",
       "      <td>...</td>\n",
       "      <td>...</td>\n",
       "      <td>...</td>\n",
       "      <td>...</td>\n",
       "      <td>...</td>\n",
       "      <td>...</td>\n",
       "      <td>...</td>\n",
       "      <td>...</td>\n",
       "      <td>...</td>\n",
       "      <td>...</td>\n",
       "      <td>...</td>\n",
       "      <td>...</td>\n",
       "      <td>...</td>\n",
       "      <td>...</td>\n",
       "      <td>...</td>\n",
       "      <td>...</td>\n",
       "      <td>...</td>\n",
       "    </tr>\n",
       "    <tr>\n",
       "      <th>2911631</th>\n",
       "      <td>POULTRY</td>\n",
       "      <td>9</td>\n",
       "      <td>3000883</td>\n",
       "      <td>3000883</td>\n",
       "      <td>2017-08-15</td>\n",
       "      <td>438.133</td>\n",
       "      <td>0</td>\n",
       "      <td>8</td>\n",
       "      <td>15</td>\n",
       "      <td>227</td>\n",
       "      <td>...</td>\n",
       "      <td>2017</td>\n",
       "      <td>0</td>\n",
       "      <td>3</td>\n",
       "      <td>0</td>\n",
       "      <td>0</td>\n",
       "      <td>0</td>\n",
       "      <td>0</td>\n",
       "      <td>0</td>\n",
       "      <td>0</td>\n",
       "      <td>2</td>\n",
       "    </tr>\n",
       "    <tr>\n",
       "      <th>2911632</th>\n",
       "      <td>PREPARED FOODS</td>\n",
       "      <td>9</td>\n",
       "      <td>3000884</td>\n",
       "      <td>3000884</td>\n",
       "      <td>2017-08-15</td>\n",
       "      <td>154.553</td>\n",
       "      <td>1</td>\n",
       "      <td>8</td>\n",
       "      <td>15</td>\n",
       "      <td>227</td>\n",
       "      <td>...</td>\n",
       "      <td>2017</td>\n",
       "      <td>0</td>\n",
       "      <td>3</td>\n",
       "      <td>0</td>\n",
       "      <td>0</td>\n",
       "      <td>0</td>\n",
       "      <td>0</td>\n",
       "      <td>0</td>\n",
       "      <td>0</td>\n",
       "      <td>2</td>\n",
       "    </tr>\n",
       "    <tr>\n",
       "      <th>2911633</th>\n",
       "      <td>PRODUCE</td>\n",
       "      <td>9</td>\n",
       "      <td>3000885</td>\n",
       "      <td>3000885</td>\n",
       "      <td>2017-08-15</td>\n",
       "      <td>2419.729</td>\n",
       "      <td>148</td>\n",
       "      <td>8</td>\n",
       "      <td>15</td>\n",
       "      <td>227</td>\n",
       "      <td>...</td>\n",
       "      <td>2017</td>\n",
       "      <td>0</td>\n",
       "      <td>3</td>\n",
       "      <td>0</td>\n",
       "      <td>0</td>\n",
       "      <td>0</td>\n",
       "      <td>0</td>\n",
       "      <td>0</td>\n",
       "      <td>0</td>\n",
       "      <td>2</td>\n",
       "    </tr>\n",
       "    <tr>\n",
       "      <th>2911634</th>\n",
       "      <td>SCHOOL AND OFFICE SUPPLIES</td>\n",
       "      <td>9</td>\n",
       "      <td>3000886</td>\n",
       "      <td>3000886</td>\n",
       "      <td>2017-08-15</td>\n",
       "      <td>121.000</td>\n",
       "      <td>8</td>\n",
       "      <td>8</td>\n",
       "      <td>15</td>\n",
       "      <td>227</td>\n",
       "      <td>...</td>\n",
       "      <td>2017</td>\n",
       "      <td>0</td>\n",
       "      <td>3</td>\n",
       "      <td>0</td>\n",
       "      <td>0</td>\n",
       "      <td>0</td>\n",
       "      <td>0</td>\n",
       "      <td>0</td>\n",
       "      <td>0</td>\n",
       "      <td>2</td>\n",
       "    </tr>\n",
       "    <tr>\n",
       "      <th>2911635</th>\n",
       "      <td>SEAFOOD</td>\n",
       "      <td>9</td>\n",
       "      <td>3000887</td>\n",
       "      <td>3000887</td>\n",
       "      <td>2017-08-15</td>\n",
       "      <td>16.000</td>\n",
       "      <td>0</td>\n",
       "      <td>8</td>\n",
       "      <td>15</td>\n",
       "      <td>227</td>\n",
       "      <td>...</td>\n",
       "      <td>2017</td>\n",
       "      <td>0</td>\n",
       "      <td>3</td>\n",
       "      <td>0</td>\n",
       "      <td>0</td>\n",
       "      <td>0</td>\n",
       "      <td>0</td>\n",
       "      <td>0</td>\n",
       "      <td>0</td>\n",
       "      <td>2</td>\n",
       "    </tr>\n",
       "  </tbody>\n",
       "</table>\n",
       "<p>2911636 rows × 23 columns</p>\n",
       "</div>"
      ],
      "text/plain": [
       "                             family  store_nbr    index       id       date  \\\n",
       "0                        AUTOMOTIVE          1        0        0 2013-01-01   \n",
       "1                            BEAUTY          1        2        2 2013-01-01   \n",
       "2                         BEVERAGES          1        3        3 2013-01-01   \n",
       "3                             BOOKS          1        4        4 2013-01-01   \n",
       "4                      BREAD/BAKERY          1        5        5 2013-01-01   \n",
       "...                             ...        ...      ...      ...        ...   \n",
       "2911631                     POULTRY          9  3000883  3000883 2017-08-15   \n",
       "2911632              PREPARED FOODS          9  3000884  3000884 2017-08-15   \n",
       "2911633                     PRODUCE          9  3000885  3000885 2017-08-15   \n",
       "2911634  SCHOOL AND OFFICE SUPPLIES          9  3000886  3000886 2017-08-15   \n",
       "2911635                     SEAFOOD          9  3000887  3000887 2017-08-15   \n",
       "\n",
       "            sales  onpromotion  month  day_of_month  day_of_year  ...  year  \\\n",
       "0           0.000            0      1             1            1  ...  2013   \n",
       "1           0.000            0      1             1            1  ...  2013   \n",
       "2           0.000            0      1             1            1  ...  2013   \n",
       "3           0.000            0      1             1            1  ...  2013   \n",
       "4           0.000            0      1             1            1  ...  2013   \n",
       "...           ...          ...    ...           ...          ...  ...   ...   \n",
       "2911631   438.133            0      8            15          227  ...  2017   \n",
       "2911632   154.553            1      8            15          227  ...  2017   \n",
       "2911633  2419.729          148      8            15          227  ...  2017   \n",
       "2911634   121.000            8      8            15          227  ...  2017   \n",
       "2911635    16.000            0      8            15          227  ...  2017   \n",
       "\n",
       "         is_wknd  quarter  is_month_start  is_month_end  is_quarter_start  \\\n",
       "0              0        1               1             0                 1   \n",
       "1              0        1               1             0                 1   \n",
       "2              0        1               1             0                 1   \n",
       "3              0        1               1             0                 1   \n",
       "4              0        1               1             0                 1   \n",
       "...          ...      ...             ...           ...               ...   \n",
       "2911631        0        3               0             0                 0   \n",
       "2911632        0        3               0             0                 0   \n",
       "2911633        0        3               0             0                 0   \n",
       "2911634        0        3               0             0                 0   \n",
       "2911635        0        3               0             0                 0   \n",
       "\n",
       "         is_quarter_end  is_year_start  is_year_end  season  \n",
       "0                     0              1            0       0  \n",
       "1                     0              1            0       0  \n",
       "2                     0              1            0       0  \n",
       "3                     0              1            0       0  \n",
       "4                     0              1            0       0  \n",
       "...                 ...            ...          ...     ...  \n",
       "2911631               0              0            0       2  \n",
       "2911632               0              0            0       2  \n",
       "2911633               0              0            0       2  \n",
       "2911634               0              0            0       2  \n",
       "2911635               0              0            0       2  \n",
       "\n",
       "[2911636 rows x 23 columns]"
      ]
     },
     "execution_count": 1362,
     "metadata": {},
     "output_type": "execute_result"
    }
   ],
   "source": [
    "train_df"
   ]
  },
  {
   "cell_type": "code",
   "execution_count": 1363,
   "id": "e5b35be0-8904-4982-aa00-400776a6f8fe",
   "metadata": {},
   "outputs": [
    {
     "data": {
      "image/png": "[encoded data removed]",
      "text/plain": [
       "<Figure size 432x288 with 1 Axes>"
      ]
     },
     "metadata": {
      "needs_background": "light"
     },
     "output_type": "display_data"
    }
   ],
   "source": [
    "sales_group_by_month = train_df.groupby(by = 'month')['sales'].apply(lambda x: np.mean(x))\n",
    "sns.barplot(x = sales_group_by_month.index, y = sales_group_by_month.values, palette='gray_r')\n",
    "for index, value in enumerate(sales_group_by_month.values):\n",
    "    plt.text(index - .2, value + 10, str(round(value)))\n",
    "    \n",
    "plt.gca().spines['bottom'].set_visible(True)\n",
    "plt.gca().spines['left'].set_visible(True)"
   ]
  },
  {
   "cell_type": "code",
   "execution_count": 1364,
   "id": "dd2268d9-0dce-4ba0-96f9-8fb828ef015b",
   "metadata": {},
   "outputs": [
    {
     "data": {
      "image/png": "[encoded data removed]",
      "text/plain": [
       "<Figure size 432x288 with 1 Axes>"
      ]
     },
     "metadata": {
      "needs_background": "light"
     },
     "output_type": "display_data"
    }
   ],
   "source": [
    "sales_group_by_week = train_df.groupby(by = 'week_of_year')['sales'].apply(lambda x: np.mean(x))\n",
    "sns.lineplot(x = sales_group_by_week.index, y = sales_group_by_week.values, marker = 'o')\n",
    "    \n",
    "plt.gca().set(ylim = (100, 500))\n",
    "    \n",
    "plt.gca().spines['bottom'].set_visible(True)\n",
    "plt.gca().spines['left'].set_visible(True)"
   ]
  },
  {
   "cell_type": "code",
   "execution_count": 1365,
   "id": "396fda8f-be39-430d-a566-fc23e17c4042",
   "metadata": {},
   "outputs": [
    {
     "data": {
      "text/html": [
       "<div>\n",
       "<style scoped>\n",
       "    .dataframe tbody tr th:only-of-type {\n",
       "        vertical-align: middle;\n",
       "    }\n",
       "\n",
       "    .dataframe tbody tr th {\n",
       "        vertical-align: top;\n",
       "    }\n",
       "\n",
       "    .dataframe thead th {\n",
       "        text-align: right;\n",
       "    }\n",
       "</style>\n",
       "<table border=\"1\" class=\"dataframe\">\n",
       "  <thead>\n",
       "    <tr style=\"text-align: right;\">\n",
       "      <th></th>\n",
       "      <th></th>\n",
       "      <th>transactions</th>\n",
       "    </tr>\n",
       "    <tr>\n",
       "      <th>date</th>\n",
       "      <th>store_nbr</th>\n",
       "      <th></th>\n",
       "    </tr>\n",
       "  </thead>\n",
       "  <tbody>\n",
       "    <tr>\n",
       "      <th>2013-01-01</th>\n",
       "      <th>25</th>\n",
       "      <td>770</td>\n",
       "    </tr>\n",
       "    <tr>\n",
       "      <th rowspan=\"2\" valign=\"top\">2013-01-02</th>\n",
       "      <th>1</th>\n",
       "      <td>2111</td>\n",
       "    </tr>\n",
       "    <tr>\n",
       "      <th>2</th>\n",
       "      <td>2358</td>\n",
       "    </tr>\n",
       "  </tbody>\n",
       "</table>\n",
       "</div>"
      ],
      "text/plain": [
       "                      transactions\n",
       "date       store_nbr              \n",
       "2013-01-01 25                  770\n",
       "2013-01-02 1                  2111\n",
       "           2                  2358"
      ]
     },
     "execution_count": 1365,
     "metadata": {},
     "output_type": "execute_result"
    }
   ],
   "source": [
    "transactions_df = pd.read_csv('transactions.csv', parse_dates=['date'], index_col=['date', 'store_nbr'])\n",
    "transactions_df.head(3)"
   ]
  },
  {
   "cell_type": "code",
   "execution_count": 1366,
   "id": "efe2f7a9-f5e5-4a54-9915-23b1b1929ff4",
   "metadata": {},
   "outputs": [
    {
     "data": {
      "text/html": [
       "<div>\n",
       "<style scoped>\n",
       "    .dataframe tbody tr th:only-of-type {\n",
       "        vertical-align: middle;\n",
       "    }\n",
       "\n",
       "    .dataframe tbody tr th {\n",
       "        vertical-align: top;\n",
       "    }\n",
       "\n",
       "    .dataframe thead th {\n",
       "        text-align: right;\n",
       "    }\n",
       "</style>\n",
       "<table border=\"1\" class=\"dataframe\">\n",
       "  <thead>\n",
       "    <tr style=\"text-align: right;\">\n",
       "      <th></th>\n",
       "      <th>sales</th>\n",
       "      <th>transactions</th>\n",
       "    </tr>\n",
       "  </thead>\n",
       "  <tbody>\n",
       "    <tr>\n",
       "      <th>sales</th>\n",
       "      <td>1.000000</td>\n",
       "      <td>0.837384</td>\n",
       "    </tr>\n",
       "    <tr>\n",
       "      <th>transactions</th>\n",
       "      <td>0.837384</td>\n",
       "      <td>1.000000</td>\n",
       "    </tr>\n",
       "  </tbody>\n",
       "</table>\n",
       "</div>"
      ],
      "text/plain": [
       "                 sales  transactions\n",
       "sales         1.000000      0.837384\n",
       "transactions  0.837384      1.000000"
      ]
     },
     "execution_count": 1366,
     "metadata": {},
     "output_type": "execute_result"
    }
   ],
   "source": [
    "pd.DataFrame(train_df.reset_index().groupby(by = ['date', 'store_nbr'])['sales'].sum()).join(transactions_df, how = 'inner').corr()"
   ]
  },
  {
   "cell_type": "code",
   "execution_count": 1367,
   "id": "d3388939-f5df-48e9-9eb0-bad5959f74bc",
   "metadata": {},
   "outputs": [
    {
     "data": {
      "text/html": [
       "<div>\n",
       "<style scoped>\n",
       "    .dataframe tbody tr th:only-of-type {\n",
       "        vertical-align: middle;\n",
       "    }\n",
       "\n",
       "    .dataframe tbody tr th {\n",
       "        vertical-align: top;\n",
       "    }\n",
       "\n",
       "    .dataframe thead th {\n",
       "        text-align: right;\n",
       "    }\n",
       "</style>\n",
       "<table border=\"1\" class=\"dataframe\">\n",
       "  <thead>\n",
       "    <tr style=\"text-align: right;\">\n",
       "      <th></th>\n",
       "      <th>sales</th>\n",
       "      <th>dcoilwtico</th>\n",
       "    </tr>\n",
       "  </thead>\n",
       "  <tbody>\n",
       "    <tr>\n",
       "      <th>sales</th>\n",
       "      <td>1.000000</td>\n",
       "      <td>-0.690249</td>\n",
       "    </tr>\n",
       "    <tr>\n",
       "      <th>dcoilwtico</th>\n",
       "      <td>-0.690249</td>\n",
       "      <td>1.000000</td>\n",
       "    </tr>\n",
       "  </tbody>\n",
       "</table>\n",
       "</div>"
      ],
      "text/plain": [
       "               sales  dcoilwtico\n",
       "sales       1.000000   -0.690249\n",
       "dcoilwtico -0.690249    1.000000"
      ]
     },
     "execution_count": 1367,
     "metadata": {},
     "output_type": "execute_result"
    }
   ],
   "source": [
    "pd.DataFrame(train_df.groupby(by = 'date')['sales'].sum()).join(oil_df, on='date').corr()"
   ]
  },
  {
   "cell_type": "code",
   "execution_count": 1368,
   "id": "2c3dea54-99ba-417a-aafd-1952d5e01776",
   "metadata": {},
   "outputs": [
    {
     "data": {
      "image/png": "[encoded data removed]",
      "text/plain": [
       "<Figure size 432x288 with 1 Axes>"
      ]
     },
     "metadata": {
      "needs_background": "light"
     },
     "output_type": "display_data"
    }
   ],
   "source": [
    "transactions_df.reset_index().set_index('date').resample('M')['transactions'].sum().plot()\n",
    "plt.gca().spines['bottom'].set_visible(True)\n",
    "plt.gca().spines['left'].set_visible(True)"
   ]
  },
  {
   "cell_type": "markdown",
   "id": "82012cdc-e017-4d8b-bbef-8667279e1530",
   "metadata": {},
   "source": [
    "---"
   ]
  },
  {
   "cell_type": "code",
   "execution_count": 1369,
   "id": "f3f1e4d7-bfe3-403b-9155-42c06642724f",
   "metadata": {},
   "outputs": [
    {
     "name": "stdout",
     "output_type": "stream",
     "text": [
      "<class 'pandas.core.frame.DataFrame'>\n",
      "RangeIndex: 54 entries, 0 to 53\n",
      "Data columns (total 5 columns):\n",
      " #   Column     Non-Null Count  Dtype \n",
      "---  ------     --------------  ----- \n",
      " 0   store_nbr  54 non-null     int64 \n",
      " 1   city       54 non-null     object\n",
      " 2   state      54 non-null     object\n",
      " 3   type       54 non-null     object\n",
      " 4   cluster    54 non-null     int64 \n",
      "dtypes: int64(2), object(3)\n",
      "memory usage: 2.2+ KB\n",
      "None\n",
      "   store_nbr   city      state type  cluster\n",
      "0          1  Quito  Pichincha    D       13\n",
      "1          2  Quito  Pichincha    D       13\n",
      "2          3  Quito  Pichincha    D        8\n"
     ]
    }
   ],
   "source": [
    "stores_df = pd.read_csv('stores.csv')\n",
    "print(stores_df.info())\n",
    "print(stores_df.head(3))"
   ]
  },
  {
   "cell_type": "code",
   "execution_count": 1370,
   "id": "b0b3da70-d202-4349-ac5a-68f0eb7b6d29",
   "metadata": {},
   "outputs": [
    {
     "data": {
      "text/plain": [
       "[Text(0.5, 1.0, 'sum of sales in each cluster'), Text(0, 0.5, 'Sales')]"
      ]
     },
     "execution_count": 1370,
     "metadata": {},
     "output_type": "execute_result"
    },
    {
     "data": {
      "image/png": "[encoded data removed]",
      "text/plain": [
       "<Figure size 432x288 with 1 Axes>"
      ]
     },
     "metadata": {
      "needs_background": "light"
     },
     "output_type": "display_data"
    }
   ],
   "source": [
    "pd.merge(left = train_df, left_on='store_nbr', right = stores_df, right_on='store_nbr', how = 'inner').groupby('cluster')['sales'].sum().plot(kind = 'bar')\n",
    "plt.gca().spines['left'].set_visible(True)\n",
    "plt.gca().spines['bottom'].set_visible(True)\n",
    "plt.gca().set(title = 'sum of sales in each cluster', ylabel = 'Sales')"
   ]
  },
  {
   "cell_type": "code",
   "execution_count": 1371,
   "id": "513e1d91-07d3-44e2-aec7-84b5f2596abe",
   "metadata": {},
   "outputs": [
    {
     "data": {
      "text/plain": [
       "[Text(0.5, 1.0, 'sum of sales in each store type'), Text(0, 0.5, 'Sales')]"
      ]
     },
     "execution_count": 1371,
     "metadata": {},
     "output_type": "execute_result"
    },
    {
     "data": {
      "image/png": "[encoded data removed]",
      "text/plain": [
       "<Figure size 432x288 with 1 Axes>"
      ]
     },
     "metadata": {
      "needs_background": "light"
     },
     "output_type": "display_data"
    }
   ],
   "source": [
    "pd.merge(left = train_df, left_on='store_nbr', right = stores_df, right_on='store_nbr', how = 'inner').groupby('type')['sales'].sum().plot(kind = 'bar')\n",
    "plt.gca().spines['left'].set_visible(True)\n",
    "plt.gca().spines['bottom'].set_visible(True)\n",
    "plt.gca().set(title = 'sum of sales in each store type', ylabel = 'Sales')"
   ]
  },
  {
   "cell_type": "code",
   "execution_count": 1372,
   "id": "dfd4d36a-d4c0-4ca6-905b-b45607490663",
   "metadata": {},
   "outputs": [
    {
     "data": {
      "image/png": "[encoded data removed]",
      "text/plain": [
       "<Figure size 720x720 with 1 Axes>"
      ]
     },
     "metadata": {
      "needs_background": "light"
     },
     "output_type": "display_data"
    }
   ],
   "source": [
    "plt.figure(figsize = (10, 10))\n",
    "train_df.groupby('family')['sales'].sum().sort_values(ascending=True).plot(kind = 'barh')\n",
    "plt.gca().spines['left'].set_visible(True)\n",
    "plt.gca().spines['bottom'].set_visible(True)"
   ]
  },
  {
   "cell_type": "code",
   "execution_count": 1373,
   "id": "b1312dc0-e0bc-4b08-996f-6c4717b223f4",
   "metadata": {},
   "outputs": [],
   "source": [
    "train_df = pd.merge(left = train_df, left_on='store_nbr', right = stores_df, right_on='store_nbr')"
   ]
  },
  {
   "cell_type": "code",
   "execution_count": 1374,
   "id": "51a79d68-6ad1-4a55-a469-3e67c72a7b55",
   "metadata": {},
   "outputs": [
    {
     "name": "stdout",
     "output_type": "stream",
     "text": [
      "<class 'pandas.core.frame.DataFrame'>\n",
      "RangeIndex: 350 entries, 0 to 349\n",
      "Data columns (total 6 columns):\n",
      " #   Column       Non-Null Count  Dtype         \n",
      "---  ------       --------------  -----         \n",
      " 0   date         350 non-null    datetime64[ns]\n",
      " 1   type         350 non-null    object        \n",
      " 2   locale       350 non-null    object        \n",
      " 3   locale_name  350 non-null    object        \n",
      " 4   description  350 non-null    object        \n",
      " 5   transferred  350 non-null    bool          \n",
      "dtypes: bool(1), datetime64[ns](1), object(4)\n",
      "memory usage: 14.1+ KB\n",
      "None\n"
     ]
    },
    {
     "data": {
      "text/html": [
       "<div>\n",
       "<style scoped>\n",
       "    .dataframe tbody tr th:only-of-type {\n",
       "        vertical-align: middle;\n",
       "    }\n",
       "\n",
       "    .dataframe tbody tr th {\n",
       "        vertical-align: top;\n",
       "    }\n",
       "\n",
       "    .dataframe thead th {\n",
       "        text-align: right;\n",
       "    }\n",
       "</style>\n",
       "<table border=\"1\" class=\"dataframe\">\n",
       "  <thead>\n",
       "    <tr style=\"text-align: right;\">\n",
       "      <th></th>\n",
       "      <th>date</th>\n",
       "      <th>type</th>\n",
       "      <th>locale</th>\n",
       "      <th>locale_name</th>\n",
       "      <th>description</th>\n",
       "      <th>transferred</th>\n",
       "    </tr>\n",
       "  </thead>\n",
       "  <tbody>\n",
       "    <tr>\n",
       "      <th>0</th>\n",
       "      <td>2012-03-02</td>\n",
       "      <td>Holiday</td>\n",
       "      <td>Local</td>\n",
       "      <td>Manta</td>\n",
       "      <td>Fundacion de Manta</td>\n",
       "      <td>False</td>\n",
       "    </tr>\n",
       "    <tr>\n",
       "      <th>1</th>\n",
       "      <td>2012-04-01</td>\n",
       "      <td>Holiday</td>\n",
       "      <td>Regional</td>\n",
       "      <td>Cotopaxi</td>\n",
       "      <td>Provincializacion de Cotopaxi</td>\n",
       "      <td>False</td>\n",
       "    </tr>\n",
       "    <tr>\n",
       "      <th>2</th>\n",
       "      <td>2012-04-12</td>\n",
       "      <td>Holiday</td>\n",
       "      <td>Local</td>\n",
       "      <td>Cuenca</td>\n",
       "      <td>Fundacion de Cuenca</td>\n",
       "      <td>False</td>\n",
       "    </tr>\n",
       "  </tbody>\n",
       "</table>\n",
       "</div>"
      ],
      "text/plain": [
       "        date     type    locale locale_name                    description  \\\n",
       "0 2012-03-02  Holiday     Local       Manta             Fundacion de Manta   \n",
       "1 2012-04-01  Holiday  Regional    Cotopaxi  Provincializacion de Cotopaxi   \n",
       "2 2012-04-12  Holiday     Local      Cuenca            Fundacion de Cuenca   \n",
       "\n",
       "   transferred  \n",
       "0        False  \n",
       "1        False  \n",
       "2        False  "
      ]
     },
     "execution_count": 1374,
     "metadata": {},
     "output_type": "execute_result"
    }
   ],
   "source": [
    "holidays_df = pd.read_csv('holidays_events.csv')\n",
    "holidays_df.date = pd.to_datetime(holidays_df.date)\n",
    "print(holidays_df.info())\n",
    "holidays_df.head(3)"
   ]
  },
  {
   "cell_type": "code",
   "execution_count": 1375,
   "id": "282d5559-982e-4a14-ac8e-d30844940519",
   "metadata": {},
   "outputs": [],
   "source": [
    "holidays = holidays_df[(holidays_df['type'] != 'Transfer') & (holidays_df['transferred'] == False)].drop('transferred', axis = 1)\n",
    "transferred_holidays = holidays_df[holidays_df['type'] == 'Transfer'].drop('transferred', axis = 1)\n",
    "holidays_df = pd.concat([transferred_holidays, holidays])"
   ]
  },
  {
   "cell_type": "code",
   "execution_count": 1376,
   "id": "63dabe8b-5d06-4deb-a2bd-d8aa8db37944",
   "metadata": {},
   "outputs": [
    {
     "name": "stderr",
     "output_type": "stream",
     "text": [
      "/var/folders/w0/h8xj6tr53wb1vyjdx5qj1ty00000gn/T/ipykernel_86174/139930540.py:1: FutureWarning: The default value of regex will change from True to False in a future version. In addition, single character regular expressions will *not* be treated as literal strings when regex=True.\n",
      "  holidays_df.description = holidays_df.description.str.replace('-', '').str.replace('+', '').str.replace(r'\\d+', '')\n",
      "/var/folders/w0/h8xj6tr53wb1vyjdx5qj1ty00000gn/T/ipykernel_86174/139930540.py:1: FutureWarning: The default value of regex will change from True to False in a future version.\n",
      "  holidays_df.description = holidays_df.description.str.replace('-', '').str.replace('+', '').str.replace(r'\\d+', '')\n"
     ]
    }
   ],
   "source": [
    "holidays_df.description = holidays_df.description.str.replace('-', '').str.replace('+', '').str.replace(r'\\d+', '')\n",
    "holidays_df.description = holidays_df.description.str.replace('recupero puente', '')\n",
    "holidays_df.description = holidays_df.description.str.replace('puente', '')\n",
    "holidays_df.description = holidays_df.description.str.lower()\n",
    "\n",
    "holidays_df.type = holidays_df.type.replace('Additional', 'Holiday')\n",
    "holidays_df.type = holidays_df.type.replace('Bridge', 'Holiday')\n",
    "holidays_df.type = holidays_df.type.replace('Transfer', 'Holiday')\n",
    "\n",
    "holidays_df = holidays_df[holidays_df.type != 'Work Day']\n",
    "\n",
    "holidays_df.drop('type', inplace = True, axis = 1)\n",
    "\n",
    "holidays_df.description = np.where(holidays_df.description.str.contains('futbol'), 'futbol', holidays_df.description)\n",
    "holidays_df.description = holidays_df.description.str.replace(' ', '_')"
   ]
  },
  {
   "cell_type": "code",
   "execution_count": 1377,
   "id": "f79daa5d-42bf-4e24-81fb-f5f023a0f3f0",
   "metadata": {},
   "outputs": [],
   "source": [
    "national_holidays = holidays_df[holidays_df.locale == 'National'].drop('locale', axis = 1)\n",
    "regional_holidays = holidays_df[holidays_df.locale == 'Regional'].drop('locale', axis = 1)\n",
    "local_holidays = holidays_df[holidays_df.locale == 'Local'].drop('locale', axis = 1)"
   ]
  },
  {
   "cell_type": "code",
   "execution_count": 1378,
   "id": "96b5363a-55b1-4b09-a927-d4c76af3c15d",
   "metadata": {},
   "outputs": [
    {
     "data": {
      "text/html": [
       "<div>\n",
       "<style scoped>\n",
       "    .dataframe tbody tr th:only-of-type {\n",
       "        vertical-align: middle;\n",
       "    }\n",
       "\n",
       "    .dataframe tbody tr th {\n",
       "        vertical-align: top;\n",
       "    }\n",
       "\n",
       "    .dataframe thead th {\n",
       "        text-align: right;\n",
       "    }\n",
       "</style>\n",
       "<table border=\"1\" class=\"dataframe\">\n",
       "  <thead>\n",
       "    <tr style=\"text-align: right;\">\n",
       "      <th></th>\n",
       "      <th>date</th>\n",
       "      <th>locale_name</th>\n",
       "      <th>description</th>\n",
       "    </tr>\n",
       "  </thead>\n",
       "  <tbody>\n",
       "    <tr>\n",
       "      <th>35</th>\n",
       "      <td>2012-12-24</td>\n",
       "      <td>Ecuador</td>\n",
       "      <td>puente_navidad</td>\n",
       "    </tr>\n",
       "    <tr>\n",
       "      <th>36</th>\n",
       "      <td>2012-12-24</td>\n",
       "      <td>Ecuador</td>\n",
       "      <td>navidad</td>\n",
       "    </tr>\n",
       "    <tr>\n",
       "      <th>39</th>\n",
       "      <td>2012-12-31</td>\n",
       "      <td>Ecuador</td>\n",
       "      <td>puente_primer_dia_del_ano</td>\n",
       "    </tr>\n",
       "    <tr>\n",
       "      <th>40</th>\n",
       "      <td>2012-12-31</td>\n",
       "      <td>Ecuador</td>\n",
       "      <td>primer_dia_del_ano</td>\n",
       "    </tr>\n",
       "    <tr>\n",
       "      <th>156</th>\n",
       "      <td>2014-12-26</td>\n",
       "      <td>Ecuador</td>\n",
       "      <td>puente_navidad</td>\n",
       "    </tr>\n",
       "    <tr>\n",
       "      <th>157</th>\n",
       "      <td>2014-12-26</td>\n",
       "      <td>Ecuador</td>\n",
       "      <td>navidad</td>\n",
       "    </tr>\n",
       "    <tr>\n",
       "      <th>235</th>\n",
       "      <td>2016-05-01</td>\n",
       "      <td>Ecuador</td>\n",
       "      <td>dia_del_trabajo</td>\n",
       "    </tr>\n",
       "    <tr>\n",
       "      <th>236</th>\n",
       "      <td>2016-05-01</td>\n",
       "      <td>Ecuador</td>\n",
       "      <td>terremoto_manabi</td>\n",
       "    </tr>\n",
       "    <tr>\n",
       "      <th>242</th>\n",
       "      <td>2016-05-07</td>\n",
       "      <td>Ecuador</td>\n",
       "      <td>dia_de_la_madre</td>\n",
       "    </tr>\n",
       "    <tr>\n",
       "      <th>243</th>\n",
       "      <td>2016-05-07</td>\n",
       "      <td>Ecuador</td>\n",
       "      <td>terremoto_manabi</td>\n",
       "    </tr>\n",
       "    <tr>\n",
       "      <th>244</th>\n",
       "      <td>2016-05-08</td>\n",
       "      <td>Ecuador</td>\n",
       "      <td>terremoto_manabi</td>\n",
       "    </tr>\n",
       "    <tr>\n",
       "      <th>245</th>\n",
       "      <td>2016-05-08</td>\n",
       "      <td>Ecuador</td>\n",
       "      <td>dia_de_la_madre</td>\n",
       "    </tr>\n",
       "  </tbody>\n",
       "</table>\n",
       "</div>"
      ],
      "text/plain": [
       "          date locale_name                description\n",
       "35  2012-12-24     Ecuador             puente_navidad\n",
       "36  2012-12-24     Ecuador                    navidad\n",
       "39  2012-12-31     Ecuador  puente_primer_dia_del_ano\n",
       "40  2012-12-31     Ecuador         primer_dia_del_ano\n",
       "156 2014-12-26     Ecuador             puente_navidad\n",
       "157 2014-12-26     Ecuador                    navidad\n",
       "235 2016-05-01     Ecuador            dia_del_trabajo\n",
       "236 2016-05-01     Ecuador           terremoto_manabi\n",
       "242 2016-05-07     Ecuador            dia_de_la_madre\n",
       "243 2016-05-07     Ecuador           terremoto_manabi\n",
       "244 2016-05-08     Ecuador           terremoto_manabi\n",
       "245 2016-05-08     Ecuador            dia_de_la_madre"
      ]
     },
     "execution_count": 1378,
     "metadata": {},
     "output_type": "execute_result"
    }
   ],
   "source": [
    "national_holidays[national_holidays.date.duplicated(keep=False)]"
   ]
  },
  {
   "cell_type": "code",
   "execution_count": 1379,
   "id": "a1366f23-d31a-4c7a-bd1d-9d1ee826c018",
   "metadata": {},
   "outputs": [],
   "source": [
    "national_holidays, regional_holidays, local_holidays = list(map(\n",
    "    lambda x: pd.get_dummies(x, columns= ['description'], prefix = 'Holiday')\n",
    ", [national_holidays, regional_holidays, local_holidays]))"
   ]
  },
  {
   "cell_type": "code",
   "execution_count": 1380,
   "id": "2288a1e3-4b2b-4b51-ae38-b62477a0de78",
   "metadata": {},
   "outputs": [],
   "source": [
    "national_holidays = national_holidays.groupby(by = 'date').sum().reset_index()\n",
    "regional_holidays = regional_holidays.groupby(by = ['locale_name', 'date']).sum().reset_index().rename(columns={'locale_name': 'state'})\n",
    "local_holidays = local_holidays.groupby(by = ['locale_name', 'date']).sum().reset_index().rename(columns={'locale_name': 'city'})"
   ]
  },
  {
   "cell_type": "code",
   "execution_count": 1381,
   "id": "3615dd8a-df07-4767-bcdc-4fd5bfabfef3",
   "metadata": {},
   "outputs": [],
   "source": [
    "local_holidays.drop('Holiday_traslado_fundacion_de_quito', axis = 1, inplace = True)"
   ]
  },
  {
   "cell_type": "code",
   "execution_count": 1382,
   "id": "b547e4be-737d-4950-b87c-e4ee72544071",
   "metadata": {},
   "outputs": [
    {
     "data": {
      "text/plain": [
       "(2911636, 27)"
      ]
     },
     "execution_count": 1382,
     "metadata": {},
     "output_type": "execute_result"
    }
   ],
   "source": [
    "train_df.shape"
   ]
  },
  {
   "cell_type": "code",
   "execution_count": 1383,
   "id": "7c70ff75-ca1f-437f-9f84-11ad2c7a69ba",
   "metadata": {},
   "outputs": [],
   "source": [
    "train_df = pd.merge(left = train_df, left_on=['date'], right = national_holidays, right_on='date', how = 'left')\n",
    "train_df = pd.merge(left = train_df, left_on=['date', 'city'], right = local_holidays, right_on=['date', 'city'], how = 'left')\n",
    "train_df = pd.merge(left = train_df, left_on=['date', 'state'], right = regional_holidays, right_on=['date', 'state'], how = 'left')"
   ]
  },
  {
   "cell_type": "code",
   "execution_count": 1384,
   "id": "9d98969d-0fe1-410b-8a57-48469481ab04",
   "metadata": {},
   "outputs": [],
   "source": [
    "train_df[train_df.columns[train_df.columns.str.startswith('Holiday')]] = train_df[train_df.columns[train_df.columns.str.startswith('Holiday')]].fillna(0)"
   ]
  },
  {
   "cell_type": "code",
   "execution_count": 1385,
   "id": "040b4d37-e13e-4230-bbc2-8e5b92ae3774",
   "metadata": {},
   "outputs": [],
   "source": [
    "def AB_Test(dataframe, group, target):\n",
    "    \n",
    "    # Packages\n",
    "    from scipy.stats import shapiro\n",
    "    import scipy.stats as stats\n",
    "    \n",
    "    # Split A/B\n",
    "    groupA = dataframe[dataframe[group] == 1][target]\n",
    "    groupB = dataframe[dataframe[group] == 0][target]\n",
    "    \n",
    "    # Assumption: Normality\n",
    "    ntA = shapiro(groupA)[1] < 0.05\n",
    "    ntB = shapiro(groupB)[1] < 0.05\n",
    "    # H0: Distribution is Normal! - False\n",
    "    # H1: Distribution is not Normal! - True\n",
    "    \n",
    "    if (ntA == False) & (ntB == False): # \"H0: Normal Distribution\"\n",
    "        # Parametric Test\n",
    "        # Assumption: Homogeneity of variances\n",
    "        leveneTest = stats.levene(groupA, groupB)[1] < 0.05\n",
    "        # H0: Homogeneity: False\n",
    "        # H1: Heterogeneous: True\n",
    "        \n",
    "        if leveneTest == False:\n",
    "            # Homogeneity\n",
    "            ttest = stats.ttest_ind(groupA, groupB, equal_var=True)[1]\n",
    "            # H0: M1 == M2 - False\n",
    "            # H1: M1 != M2 - True\n",
    "        else:\n",
    "            # Heterogeneous\n",
    "            ttest = stats.ttest_ind(groupA, groupB, equal_var=False)[1]\n",
    "            # H0: M1 == M2 - False\n",
    "            # H1: M1 != M2 - True\n",
    "    else:\n",
    "        # Non-Parametric Test\n",
    "        ttest = stats.mannwhitneyu(groupA, groupB)[1] \n",
    "        # H0: M1 == M2 - False\n",
    "        # H1: M1 != M2 - True\n",
    "        \n",
    "    # Result\n",
    "    temp = pd.DataFrame({\n",
    "        \"AB Hypothesis\":[ttest < 0.05], \n",
    "        \"p-value\":[ttest]\n",
    "    })\n",
    "    temp[\"Test Type\"] = np.where((ntA == False) & (ntB == False), \"Parametric\", \"Non-Parametric\")\n",
    "    temp[\"AB Hypothesis\"] = np.where(temp[\"AB Hypothesis\"] == False, \"Fail to Reject H0\", \"Reject H0\")\n",
    "    temp[\"Comment\"] = np.where(temp[\"AB Hypothesis\"] == \"Fail to Reject H0\", \"A/B groups are similar!\", \"A/B groups are not similar!\")\n",
    "    temp[\"Feature\"] = group\n",
    "    temp[\"GroupA_mean\"] = groupA.mean()\n",
    "    temp[\"GroupB_mean\"] = groupB.mean()\n",
    "    temp[\"GroupA_median\"] = groupA.median()\n",
    "    temp[\"GroupB_median\"] = groupB.median()\n",
    "    \n",
    "    # Columns\n",
    "    if (ntA == False) & (ntB == False):\n",
    "        temp[\"Homogeneity\"] = np.where(leveneTest == False, \"Yes\", \"No\")\n",
    "        temp = temp[[\"Feature\",\"Test Type\", \"Homogeneity\",\"AB Hypothesis\", \"p-value\", \"Comment\", \"GroupA_mean\", \"GroupB_mean\", \"GroupA_median\", \"GroupB_median\"]]\n",
    "    else:\n",
    "        temp = temp[[\"Feature\",\"Test Type\",\"AB Hypothesis\", \"p-value\", \"Comment\", \"GroupA_mean\", \"GroupB_mean\", \"GroupA_median\", \"GroupB_median\"]]\n",
    "    \n",
    "    return temp"
   ]
  },
  {
   "cell_type": "code",
   "execution_count": 1386,
   "id": "d8c26b39-bbdd-47cd-b559-2eaf149ea68a",
   "metadata": {},
   "outputs": [
    {
     "data": {
      "text/plain": [
       "(2911636, 77)"
      ]
     },
     "execution_count": 1386,
     "metadata": {},
     "output_type": "execute_result"
    }
   ],
   "source": [
    "train_df.shape"
   ]
  },
  {
   "cell_type": "code",
   "execution_count": 1387,
   "id": "cccfd359-db9f-481d-b8dc-bbdbe200b689",
   "metadata": {},
   "outputs": [
    {
     "name": "stderr",
     "output_type": "stream",
     "text": [
      "/Users/user/miniforge3/envs/general/lib/python3.8/site-packages/scipy/stats/morestats.py:1760: UserWarning: p-value may not be accurate for N > 5000.\n",
      "  warnings.warn(\"p-value may not be accurate for N > 5000.\")\n"
     ]
    }
   ],
   "source": [
    "AB_testing_results_df = pd.DataFrame()\n",
    "columns = train_df.columns[train_df.columns.str.startswith('Holiday')]\n",
    "for column in columns:\n",
    "    AB_testing_results_df = AB_testing_results_df.append(AB_Test(train_df, column, 'sales'))\n",
    "train_df = train_df.drop(columns = AB_testing_results_df[AB_testing_results_df['AB Hypothesis'] == 'Fail to Reject H0'].Feature, axis = 1)"
   ]
  },
  {
   "cell_type": "code",
   "execution_count": 1388,
   "id": "13ecc241-393d-41e8-b42b-9006497558c7",
   "metadata": {},
   "outputs": [],
   "source": [
    "train_df.set_index('date', inplace=True)\n",
    "train_df.sort_index(inplace=True)"
   ]
  },
  {
   "cell_type": "code",
   "execution_count": 1389,
   "id": "f2179924-f0a4-4b10-967a-03a817d14859",
   "metadata": {},
   "outputs": [],
   "source": [
    "import lightgbm as lgb\n",
    "from sklearn.model_selection import train_test_split\n",
    "from sklearn import metrics"
   ]
  },
  {
   "cell_type": "code",
   "execution_count": 1390,
   "id": "5e493dd1-862f-4ea7-8be6-b3ae44ecd360",
   "metadata": {},
   "outputs": [],
   "source": [
    "main_df = train_df.copy()"
   ]
  },
  {
   "cell_type": "markdown",
   "id": "08f2b7c7-bf42-4b18-9b29-bc35d1884581",
   "metadata": {},
   "source": [
    "---"
   ]
  },
  {
   "cell_type": "code",
   "execution_count": 1511,
   "id": "0f7d8226-e121-480f-a287-102a8a7677f2",
   "metadata": {},
   "outputs": [],
   "source": [
    "train_df = main_df.copy()"
   ]
  },
  {
   "cell_type": "code",
   "execution_count": 1512,
   "id": "f2df4ed9-07e2-4cca-9eab-aa96870a96f0",
   "metadata": {},
   "outputs": [],
   "source": [
    "import re\n",
    "train_df.reset_index(inplace=True)\n",
    "train_df = pd.get_dummies(train_df, columns=['city', 'state', 'type'])\n",
    "train_df = train_df.rename(columns = lambda x: re.sub('[^A-Za-z0-9_]+', '', x))\n",
    "train_df.drop(columns=['index', 'id', 'date'], axis=1, inplace = True)"
   ]
  },
  {
   "cell_type": "code",
   "execution_count": 1513,
   "id": "4bd22e57-51d7-402c-8b94-2630ac50182b",
   "metadata": {},
   "outputs": [],
   "source": [
    "y = train_df.pop('sales')\n",
    "X = train_df"
   ]
  },
  {
   "cell_type": "code",
   "execution_count": 1514,
   "id": "b207f6ab-9e88-4753-b596-15facfa78221",
   "metadata": {},
   "outputs": [],
   "source": [
    "X_train, X_test, y_train, y_test = train_test_split(X, y, test_size=0.33, random_state=42, shuffle=False)"
   ]
  },
  {
   "cell_type": "code",
   "execution_count": 1517,
   "id": "03afa989-c3d9-4d96-884a-e598d22147d2",
   "metadata": {
    "tags": []
   },
   "outputs": [
    {
     "data": {
      "application/vnd.jupyter.widget-view+json": {
       "model_id": "8cbff8217104422daa0b65670cadff55",
       "version_major": 2,
       "version_minor": 0
      },
      "text/plain": [
       "0it [00:00, ?it/s]"
      ]
     },
     "metadata": {},
     "output_type": "display_data"
    }
   ],
   "source": [
    "from tqdm.auto import tqdm\n",
    "models = dict()\n",
    "for family, store in tqdm(zip(train_df.family.unique(), train_df.store_nbr.unique()), leave=False):\n",
    "    train_indices = X_train[(X_train['family'] == family) & (X_train.store_nbr == store)].index\n",
    "    X_train_filtered = X_train.loc[train_indices].drop(columns=['family', 'store_nbr'], axis = 1)\n",
    "    y_train_filtered = y_train.loc[train_indices]\n",
    "\n",
    "    test_indices = X_test[(X_test['family'] == family) & (X_test.store_nbr == store)].index\n",
    "    X_test_filtered = X_test.loc[test_indices].drop(columns=['family', 'store_nbr'], axis = 1)\n",
    "    y_test_filtered = y_test.loc[test_indices]\n",
    "\n",
    "\n",
    "    model = lgb.LGBMRegressor(learning_rate=0.005, max_depth = -20, random_state=42)\n",
    "    model.fit(X_train_filtered, y_train_filtered, eval_set=[(X_test_filtered, y_test_filtered), (X_train_filtered, y_train_filtered)], verbose=False)\n",
    "    \n",
    "    models[(family, store)] = model"
   ]
  },
  {
   "cell_type": "code",
   "execution_count": 1479,
   "id": "1af1329b-2bfc-4dbe-b22f-f806022e6709",
   "metadata": {},
   "outputs": [],
   "source": [
    "# print('Training accuracy {:.4f}'.format(model.score(X_train, y_train)))\n",
    "# print('Testing accuracy {:.4f}'.format(model.score(X_test, y_test)))"
   ]
  },
  {
   "cell_type": "code",
   "execution_count": 1478,
   "id": "de757b5c-ee00-4be5-b5f5-91a3b9ebab3f",
   "metadata": {},
   "outputs": [],
   "source": [
    "# fig, ax = plt.subplots(nrows=1, ncols=1, figsize = (10, 30))\n",
    "# lgb.plot_importance(model, ax = ax)"
   ]
  },
  {
   "cell_type": "code",
   "execution_count": 1477,
   "id": "91abc714-fff0-4900-bea6-6cce7b65bdcf",
   "metadata": {},
   "outputs": [],
   "source": [
    "# lgb.plot_metric(model)"
   ]
  },
  {
   "cell_type": "code",
   "execution_count": null,
   "id": "e21de3d6-7ecb-43a4-bd73-5ed041e02826",
   "metadata": {},
   "outputs": [],
   "source": []
  }
 ],
 "metadata": {
  "kernelspec": {
   "display_name": "Python [conda env:general]",
   "language": "python",
   "name": "conda-env-general-py"
  },
  "language_info": {
   "codemirror_mode": {
    "name": "ipython",
    "version": 3
   },
   "file_extension": ".py",
   "mimetype": "text/x-python",
   "name": "python",
   "nbconvert_exporter": "python",
   "pygments_lexer": "ipython3",
   "version": "3.8.12"
  }
 },
 "nbformat": 4,
 "nbformat_minor": 5
}
