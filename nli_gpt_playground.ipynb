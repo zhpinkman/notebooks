{
 "cells": [
  {
   "cell_type": "code",
   "execution_count": 23,
   "id": "aa713616-664b-4d7d-bec7-d29c3b8c70f6",
   "metadata": {},
   "outputs": [],
   "source": [
    "import numpy as np"
   ]
  },
  {
   "cell_type": "code",
   "execution_count": 21,
   "id": "7da02b5c-352a-4e83-923b-168b7d739ca1",
   "metadata": {},
   "outputs": [
    {
     "name": "stdout",
     "output_type": "stream",
     "text": [
      "studies have shown that owning a dog is good for you because  you can get a better\n"
     ]
    }
   ],
   "source": [
    "from transformers import AutoTokenizer, AutoModelForCausalLM\n",
    "\n",
    "tokenizer = AutoTokenizer.from_pretrained(\"gpt2\")\n",
    "\n",
    "model = AutoModelForCausalLM.from_pretrained(\"gpt2\")\n",
    "# inference\n",
    "input_ids = tokenizer(\n",
    "    \"studies have shown that owning a dog is good for you because \", return_tensors=\"pt\"\n",
    ").input_ids  # Batch size 1\n",
    "\n",
    "\n",
    "\n",
    "outputs = model.generate(input_ids, pad_token_id=tokenizer.eos_token_id)\n",
    "print(tokenizer.decode(outputs[0], skip_special_tokens=True))"
   ]
  },
  {
   "cell_type": "code",
   "execution_count": 40,
   "id": "1f15246f-4c49-4f7f-beed-199ff29db5d1",
   "metadata": {},
   "outputs": [
    {
     "name": "stderr",
     "output_type": "stream",
     "text": [
      "/Users/user/miniforge3/envs/general/lib/python3.8/site-packages/transformers/tokenization_utils_base.py:2259: FutureWarning: The `truncation_strategy` argument is deprecated and will be removed in a future version, use `truncation=True` to truncate examples to a max length. You can give a specific length with `max_length` (e.g. `max_length=45`) or leave max_length to None to truncate to the maximal input size of the model (e.g. 512 for Bert).  If you have pairs of inputs, you can give a specific truncation strategy selected among `truncation='only_first'` (will only truncate the first sentence in the pairs) `truncation='only_second'` (will only truncate the second sentence in the pairs) or `truncation='longest_first'` (will iteratively remove tokens from the longest sentence in the pairs).\n",
      "  warnings.warn(\n"
     ]
    }
   ],
   "source": [
    "# pose sequence as a NLI premise and label as a hypothesis\n",
    "from transformers import AutoModelForSequenceClassification, AutoTokenizer\n",
    "nli_model = AutoModelForSequenceClassification.from_pretrained('facebook/bart-large-mnli')\n",
    "tokenizer = AutoTokenizer.from_pretrained('facebook/bart-large-mnli')\n",
    "\n",
    "premise = \"I have a problem with my iphone that needs to be resolved asap!!\"\n",
    "labels = [\"urgent\", \"not urgent\", \"phone\", \"tablet\", \"computer\"]\n",
    "\n",
    "label = labels[0]\n",
    "all_logits = []\n",
    "\n",
    "\n",
    "for label in labels:\n",
    "    hypothesis = f'This example is {label}.'\n",
    "\n",
    "    # run through model pre-trained on MNLI\n",
    "    x = tokenizer.encode(premise, hypothesis, return_tensors='pt',\n",
    "                         truncation_strategy='only_first')\n",
    "\n",
    "\n",
    "    logits = nli_model(x)[0]\n",
    "    all_logits.append(logits)\n",
    "\n",
    "\n",
    "#     entail_contradiction_logits = logits[:,[0,2]]\n",
    "#     probs = entail_contradiction_logits.softmax(dim=1)\n",
    "#     prob_label_is_true = probs[:,1]\n",
    "#     print(f'conclusion for {label}')\n",
    "#     print(prob_label_is_true)"
   ]
  },
  {
   "cell_type": "code",
   "execution_count": 41,
   "id": "b1a05a3e-61b7-4d40-9b5d-b29fd0169b10",
   "metadata": {},
   "outputs": [],
   "source": [
    "all_logits = np.array([logit.detach().numpy() for logit in all_logits])"
   ]
  },
  {
   "cell_type": "code",
   "execution_count": 50,
   "id": "cec69ba2-c0aa-4fe2-8ee3-279b8461b333",
   "metadata": {},
   "outputs": [],
   "source": [
    "all_logits = all_logits.squeeze(1)"
   ]
  },
  {
   "cell_type": "code",
   "execution_count": 62,
   "id": "dc8c4287-fd81-49bf-9019-b585b293a472",
   "metadata": {},
   "outputs": [],
   "source": [
    "all_logits = np.array([logit[[0, 2]] for logit in all_logits])"
   ]
  },
  {
   "cell_type": "code",
   "execution_count": 68,
   "id": "8fb205c5-d555-45c9-933b-a5bffef5ee22",
   "metadata": {},
   "outputs": [
    {
     "data": {
      "text/plain": [
       "array([9.9857620e+01, 6.7890659e-02, 9.9499779e+01, 4.1480295e-02,\n",
       "       1.3497467e+01], dtype=float32)"
      ]
     },
     "execution_count": 68,
     "metadata": {},
     "output_type": "execute_result"
    }
   ],
   "source": [
    "scores = np.exp(all_logits) / np.exp(all_logits).sum(-1, keepdims=True)\n",
    "scores[:, 1] * 100"
   ]
  },
  {
   "cell_type": "code",
   "execution_count": 71,
   "id": "6921ee1d-428e-42b7-916a-e2f2af211a13",
   "metadata": {},
   "outputs": [],
   "source": [
    "scores = np.exp(all_logits[..., 1]) / np.exp(all_logits[..., 1]).sum(-1, keepdims = True)"
   ]
  },
  {
   "cell_type": "code",
   "execution_count": 72,
   "id": "8af9848a-4126-4582-a95e-4959dd54921d",
   "metadata": {},
   "outputs": [
    {
     "data": {
      "text/plain": [
       "array([0.5036361 , 0.00265578, 0.47879893, 0.00230877, 0.01260042],\n",
       "      dtype=float32)"
      ]
     },
     "execution_count": 72,
     "metadata": {},
     "output_type": "execute_result"
    }
   ],
   "source": [
    "scores"
   ]
  }
 ],
 "metadata": {
  "kernelspec": {
   "display_name": "Python [conda env:general]",
   "language": "python",
   "name": "conda-env-general-py"
  },
  "language_info": {
   "codemirror_mode": {
    "name": "ipython",
    "version": 3
   },
   "file_extension": ".py",
   "mimetype": "text/x-python",
   "name": "python",
   "nbconvert_exporter": "python",
   "pygments_lexer": "ipython3",
   "version": "3.8.12"
  }
 },
 "nbformat": 4,
 "nbformat_minor": 5
}
