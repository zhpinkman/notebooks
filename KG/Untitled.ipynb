{
 "cells": [
  {
   "cell_type": "code",
   "execution_count": 2,
   "id": "b4297f5c-7f13-481c-8452-ec26e48174c4",
   "metadata": {},
   "outputs": [],
   "source": [
    "from nltk.corpus import wordnet"
   ]
  },
  {
   "cell_type": "code",
   "execution_count": 3,
   "id": "b14fe79e-ba59-4163-9ddc-74dd2a2c25fc",
   "metadata": {},
   "outputs": [],
   "source": [
    "syns = wordnet.synsets(\"program\")"
   ]
  },
  {
   "cell_type": "code",
   "execution_count": 4,
   "id": "04773b33-4968-4eb9-afd1-4aced4479d75",
   "metadata": {},
   "outputs": [
    {
     "data": {
      "text/plain": [
       "[Synset('plan.n.01'),\n",
       " Synset('program.n.02'),\n",
       " Synset('broadcast.n.02'),\n",
       " Synset('platform.n.02'),\n",
       " Synset('program.n.05'),\n",
       " Synset('course_of_study.n.01'),\n",
       " Synset('program.n.07'),\n",
       " Synset('program.n.08'),\n",
       " Synset('program.v.01'),\n",
       " Synset('program.v.02')]"
      ]
     },
     "execution_count": 4,
     "metadata": {},
     "output_type": "execute_result"
    }
   ],
   "source": [
    "syns"
   ]
  },
  {
   "cell_type": "code",
   "execution_count": 9,
   "id": "1c964fec-f509-46b4-9f00-6dce7b08d16a",
   "metadata": {},
   "outputs": [
    {
     "data": {
      "text/plain": [
       "nltk.corpus.reader.wordnet.Synset"
      ]
     },
     "execution_count": 9,
     "metadata": {},
     "output_type": "execute_result"
    }
   ],
   "source": [
    "type(syns[0])"
   ]
  },
  {
   "cell_type": "code",
   "execution_count": 22,
   "id": "b698c156-7363-4bc2-b67b-0bcdbc69ab83",
   "metadata": {},
   "outputs": [
    {
     "data": {
      "text/plain": [
       "0.9090909090909091"
      ]
     },
     "execution_count": 22,
     "metadata": {},
     "output_type": "execute_result"
    }
   ],
   "source": [
    "w1 = wordnet.synset('ship.n.01')\n",
    "w2 = wordnet.synset('boat.n.01')\n",
    "w1.wup_similarity(w2)"
   ]
  },
  {
   "cell_type": "code",
   "execution_count": 29,
   "id": "54fffa0c-8c50-46e4-a336-89c74d901c25",
   "metadata": {},
   "outputs": [
    {
     "name": "stdout",
     "output_type": "stream",
     "text": [
      "Name: irani.n.01\n",
      "**********\n",
      "Hypernyms: [Synset('asian.n.01')]\n",
      "**********\n",
      "Hyponyms: [Synset('farsi.n.01')]\n",
      "********************\n",
      "Name: iranian.n.02\n",
      "**********\n",
      "Hypernyms: [Synset('indo-iranian.n.01')]\n",
      "**********\n",
      "Hyponyms: [Synset('avestan.n.01'), Synset('balochi.n.01'), Synset('dari.n.01'), Synset('gathic.n.01'), Synset('kurdish.n.01'), Synset('ossete.n.01'), Synset('pahlavi.n.02'), Synset('pashto.n.01'), Synset('persian.n.02'), Synset('scythian.n.02'), Synset('tajiki.n.01')]\n",
      "********************\n",
      "Name: iranian.a.01\n",
      "**********\n",
      "Hypernyms: []\n",
      "**********\n",
      "Hyponyms: []\n",
      "********************\n"
     ]
    }
   ],
   "source": [
    "syns = wordnet.synsets('iranian')\n",
    "for syn in syns:\n",
    "    print(f'Name: {syn.name()}')\n",
    "    print(10 * '*')\n",
    "    print(f'Hypernyms: {syn.hypernyms()}')\n",
    "    print(10 * '*')\n",
    "    print(f'Hyponyms: {syn.hyponyms()}')\n",
    "    print(10 * '**')"
   ]
  },
  {
   "cell_type": "code",
   "execution_count": 36,
   "id": "2b53f932-12c6-432a-94e5-ebc79c43af19",
   "metadata": {},
   "outputs": [
    {
     "data": {
      "text/plain": [
       "(['Iranian', 'Persian'],\n",
       " 'of or relating to Iran or its people or language or culture')"
      ]
     },
     "execution_count": 36,
     "metadata": {},
     "output_type": "execute_result"
    }
   ],
   "source": [
    "syns[2].lemma_names(), syns[2].definition()"
   ]
  },
  {
   "cell_type": "code",
   "execution_count": null,
   "id": "25207eb8-6e15-446f-8950-1b1e154819f6",
   "metadata": {},
   "outputs": [],
   "source": []
  }
 ],
 "metadata": {
  "kernelspec": {
   "display_name": "Python [conda env:general]",
   "language": "python",
   "name": "conda-env-general-py"
  },
  "language_info": {
   "codemirror_mode": {
    "name": "ipython",
    "version": 3
   },
   "file_extension": ".py",
   "mimetype": "text/x-python",
   "name": "python",
   "nbconvert_exporter": "python",
   "pygments_lexer": "ipython3",
   "version": "3.8.12"
  }
 },
 "nbformat": 4,
 "nbformat_minor": 5
}
